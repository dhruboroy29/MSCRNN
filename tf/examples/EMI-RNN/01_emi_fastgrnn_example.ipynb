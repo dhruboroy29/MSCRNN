{
 "cells": [
  {
   "cell_type": "markdown",
   "metadata": {},
   "source": [
    "# Using EMI-FastGRNN on the HAR Dataset\n",
    "\n",
    "This is a very simple example of how the existing EMI-FastGRNN implementation can be used on the HAR dataset. We illustrate how to train a model that predicts on 48 step sequence in place of the 128 length baselines while attempting to predict early. For more advanced use cases which involves more sophisticated computation graphs or loss functions, please refer to the doc strings provided with the released code.\n",
    "\n",
    "In the preprint of our work, we use the terms *bag* and *instance* to refer to the RNN input sequence of original length and the shorter ones we want to learn to predict on, respectively. In the code though, *bag* is replaced with *instance* and *instance* is replaced with *sub-instance*. We will use the term *instance* and *sub-instance* interchangeably.\n",
    "\n",
    "The network used here is a simple RNN + Linear classifier network. \n",
    "\n",
    "The UCI [Human Activity Recognition](https://archive.ics.uci.edu/ml/datasets/human+activity+recognition+using+smartphones) dataset."
   ]
  },
  {
   "cell_type": "code",
   "execution_count": 1,
   "metadata": {
    "ExecuteTime": {
     "end_time": "2018-08-19T12:39:06.272261Z",
     "start_time": "2018-08-19T12:39:05.330668Z"
    }
   },
   "outputs": [],
   "source": [
    "from __future__ import print_function\n",
    "import os\n",
    "import sys\n",
    "import tensorflow as tf\n",
    "import numpy as np\n",
    "sys.path.insert(0, '../../')\n",
    "os.environ['CUDA_VISIBLE_DEVICES'] ='1'\n",
    "\n",
    "# FastGRNN and FastRNN imports\n",
    "from edgeml.graph.rnn import EMI_DataPipeline\n",
    "from edgeml.graph.rnn import EMI_FastGRNN\n",
    "from edgeml.graph.rnn import EMI_FastRNN\n",
    "from edgeml.trainer.emirnnTrainer import EMI_Trainer, EMI_Driver\n",
    "import edgeml.utils"
   ]
  },
  {
   "cell_type": "markdown",
   "metadata": {},
   "source": [
    "Let us set up some network parameters for the computation graph."
   ]
  },
  {
   "cell_type": "code",
   "execution_count": 2,
   "metadata": {
    "ExecuteTime": {
     "end_time": "2018-08-19T12:39:06.292205Z",
     "start_time": "2018-08-19T12:39:06.274254Z"
    }
   },
   "outputs": [],
   "source": [
    "# Network parameters for our FastGRNN + FC Layer\n",
    "NUM_HIDDEN = 16\n",
    "NUM_TIMESTEPS = 48\n",
    "NUM_FEATS = 9\n",
    "FORGET_BIAS = 1.0\n",
    "NUM_OUTPUT = 6\n",
    "USE_DROPOUT = False\n",
    "KEEP_PROB = 0.9\n",
    "\n",
    "# Non-linearities can be chosen among \"tanh, sigmoid, relu, quantTanh, quantSigm\"\n",
    "UPDATE_NL = \"quantTanh\"\n",
    "GATE_NL = \"quantSigm\"\n",
    "\n",
    "# Ranks of Parameter matrices for low-rank parameterisation to compress models.\n",
    "WRANK = 5\n",
    "URANK = 6\n",
    "\n",
    "# For dataset API\n",
    "PREFETCH_NUM = 5\n",
    "BATCH_SIZE = 32\n",
    "\n",
    "# Number of epochs in *one iteration*\n",
    "NUM_EPOCHS = 3\n",
    "# Number of iterations in *one round*. After each iteration,\n",
    "# the model is dumped to disk. At the end of the current\n",
    "# round, the best model among all the dumped models in the\n",
    "# current round is picked up..\n",
    "NUM_ITER = 4\n",
    "# A round consists of multiple training iterations and a belief\n",
    "# update step using the best model from all of these iterations\n",
    "NUM_ROUNDS = 10\n",
    "\n",
    "# A staging direcory to store models\n",
    "MODEL_PREFIX = '/tmp/models/model-fgrnn'"
   ]
  },
  {
   "cell_type": "markdown",
   "metadata": {},
   "source": [
    "# Loading Data\n",
    "\n",
    "Please make sure the data is preprocessed to a format that is compatible with EMI-RNN. `tf/examples/EMI-RNN/fetch_har.py` can be used to download and setup the HAR dataset.\n"
   ]
  },
  {
   "cell_type": "code",
   "execution_count": 3,
   "metadata": {
    "ExecuteTime": {
     "end_time": "2018-08-19T12:39:06.410372Z",
     "start_time": "2018-08-19T12:39:06.294014Z"
    }
   },
   "outputs": [
    {
     "name": "stdout",
     "output_type": "stream",
     "text": [
      "x_train shape is: (6220, 6, 48, 9)\n",
      "y_train shape is: (6220, 6, 6)\n",
      "x_test shape is: (1132, 6, 48, 9)\n",
      "y_test shape is: (1132, 6, 6)\n"
     ]
    }
   ],
   "source": [
    "# Loading the data\n",
    "x_train, y_train = np.load('./HAR/48_16/x_train.npy'), np.load('./HAR/48_16/y_train.npy')\n",
    "x_test, y_test = np.load('./HAR/48_16/x_test.npy'), np.load('./HAR/48_16/y_test.npy')\n",
    "x_val, y_val = np.load('./HAR/48_16/x_val.npy'), np.load('./HAR/48_16/y_val.npy')\n",
    "\n",
    "# BAG_TEST, BAG_TRAIN, BAG_VAL represent bag_level labels. These are used for the label update\n",
    "# step of EMI/MI RNN\n",
    "BAG_TEST = np.argmax(y_test[:, 0, :], axis=1)\n",
    "BAG_TRAIN = np.argmax(y_train[:, 0, :], axis=1)\n",
    "BAG_VAL = np.argmax(y_val[:, 0, :], axis=1)\n",
    "NUM_SUBINSTANCE = x_train.shape[1]\n",
    "print(\"x_train shape is:\", x_train.shape)\n",
    "print(\"y_train shape is:\", y_train.shape)\n",
    "print(\"x_test shape is:\", x_val.shape)\n",
    "print(\"y_test shape is:\", y_val.shape)"
   ]
  },
  {
   "cell_type": "markdown",
   "metadata": {},
   "source": [
    "# Computation Graph\n",
    "\n",
    "![hell](img/3PartsGraph.png)\n",
    "\n",
    "The *EMI-RNN* computation graph is constructed out of the following three mutually disjoint parts ('modules'):\n",
    "\n",
    "1. `EMI_DataPipeline`: An efficient data input pipeline that using the Tensorflow Dataset API. This module ingests data compatible with EMI-RNN and provides two iterators for a batch of input data, $x$ and label $y$. \n",
    "2. `EMI_RNN`: The 'abstract' `EMI-RNN` class defines the methods and attributes required for the forward computation graph. An implementation based on FastGRNN - `EMI_FastGRNN` is used in this document, though the user is free to implement his own computation graphs compatible with `EMI-RNN`. This module expects two Dataset API iterators for $x$-batch and $y$-batch as inputs and constructs the forward computation graph based on them. Every implementation of this class defines an `output` operation - the output of the forward computation graph.\n",
    "3. `EMI_Trainer`: An instance of `EMI_Trainer` class which defines the loss functions and the training routine. This expects an `output` operator from an `EMI-RNN` implementation and attaches loss functions and training routines to it.\n",
    "\n",
    "To build the computation graph, we create an instance of all the above and then connect them together.\n",
    "\n",
    "Note that, the `EMI_FastGRNN` class is an implementation that uses an FastGRNN cell and pushes the FastGRNN output at each step to a secondary classifier for classification. This secondary classifier is not implemented as part of `EMI_FastGRNN` and is left to the user to define by overriding the `createExtendedGraph` method, and the `restoreExtendedgraph` method.\n",
    "\n",
    "For the purpose of this example, we will be using a simple linear layer as a secondary classifier."
   ]
  },
  {
   "cell_type": "code",
   "execution_count": 4,
   "metadata": {
    "ExecuteTime": {
     "end_time": "2018-08-19T12:39:06.653612Z",
     "start_time": "2018-08-19T12:39:06.412290Z"
    }
   },
   "outputs": [],
   "source": [
    "# Define the linear secondary classifier\n",
    "def createExtendedGraph(self, baseOutput, *args, **kwargs):\n",
    "    W1 = tf.Variable(np.random.normal(size=[NUM_HIDDEN, NUM_OUTPUT]).astype('float32'), name='W1')\n",
    "    B1 = tf.Variable(np.random.normal(size=[NUM_OUTPUT]).astype('float32'), name='B1')\n",
    "    y_cap = tf.add(tf.tensordot(baseOutput, W1, axes=1), B1, name='y_cap_tata')\n",
    "    self.output = y_cap\n",
    "    self.graphCreated = True\n",
    "\n",
    "def restoreExtendedGraph(self, graph, *args, **kwargs):\n",
    "    y_cap = graph.get_tensor_by_name('y_cap_tata:0')\n",
    "    self.output = y_cap\n",
    "    self.graphCreated = True\n",
    "    \n",
    "def feedDictFunc(self, keep_prob=None, inference=False, **kwargs):\n",
    "    if inference is False:\n",
    "        feedDict = {self._emiGraph.keep_prob: keep_prob}\n",
    "    else:\n",
    "        feedDict = {self._emiGraph.keep_prob: 1.0}\n",
    "    return feedDict\n",
    "\n",
    "    \n",
    "EMI_FastGRNN._createExtendedGraph = createExtendedGraph\n",
    "EMI_FastGRNN._restoreExtendedGraph = restoreExtendedGraph\n",
    "if USE_DROPOUT is True:\n",
    "    EMI_FastGRNN.feedDictFunc = feedDictFunc"
   ]
  },
  {
   "cell_type": "code",
   "execution_count": 5,
   "metadata": {
    "ExecuteTime": {
     "end_time": "2018-08-19T12:39:06.701740Z",
     "start_time": "2018-08-19T12:39:06.655328Z"
    }
   },
   "outputs": [],
   "source": [
    "inputPipeline = EMI_DataPipeline(NUM_SUBINSTANCE, NUM_TIMESTEPS, NUM_FEATS, NUM_OUTPUT)\n",
    "emiFastGRNN = EMI_FastGRNN(NUM_SUBINSTANCE, NUM_HIDDEN, NUM_TIMESTEPS, NUM_FEATS, wRank=WRANK, uRank=URANK, \n",
    "                           gate_non_linearity=GATE_NL, update_non_linearity=UPDATE_NL, useDropout=USE_DROPOUT)\n",
    "emiTrainer = EMI_Trainer(NUM_TIMESTEPS, NUM_OUTPUT, lossType='xentropy')"
   ]
  },
  {
   "cell_type": "markdown",
   "metadata": {},
   "source": [
    "Now that we have all the elementary parts of the computation graph setup, we connect them together to form the forward graph."
   ]
  },
  {
   "cell_type": "code",
   "execution_count": 6,
   "metadata": {
    "ExecuteTime": {
     "end_time": "2018-08-19T12:39:14.187456Z",
     "start_time": "2018-08-19T12:39:06.703481Z"
    }
   },
   "outputs": [],
   "source": [
    "tf.reset_default_graph()\n",
    "g1 = tf.Graph()    \n",
    "with g1.as_default():\n",
    "    # Obtain the iterators to each batch of the data\n",
    "    x_batch, y_batch = inputPipeline()\n",
    "    # Create the forward computation graph based on the iterators\n",
    "    y_cap = emiFastGRNN(x_batch)\n",
    "    # Create loss graphs and training routines\n",
    "    emiTrainer(y_cap, y_batch)"
   ]
  },
  {
   "cell_type": "markdown",
   "metadata": {},
   "source": [
    "# EMI Driver\n",
    "\n",
    "The `EMI_Driver` implements the `EMI_RNN` algorithm. For more information on how the driver works, please refer to `tf/docs/EMI-RNN.md`. Note that, during the training period, the accuracy printed is instance level accuracy with the current label information as target. Bag level accuracy, with which we are actually concerned, is calculated after the training ends. "
   ]
  },
  {
   "cell_type": "code",
   "execution_count": 7,
   "metadata": {
    "ExecuteTime": {
     "end_time": "2018-08-19T12:51:45.803360Z",
     "start_time": "2018-08-19T12:39:14.189648Z"
    }
   },
   "outputs": [
    {
     "name": "stdout",
     "output_type": "stream",
     "text": [
      "Update policy: top-k\n",
      "Training with MI-RNN loss for 5 rounds\n",
      "Round: 0\n",
      "Epoch   2 Batch   180 (  570) Loss 0.01416 Acc 0.69271 | Val acc 0.78173 | Model saved to /tmp/models/model-fgrnn, global_step 1000\n",
      "Epoch   2 Batch   180 (  570) Loss 0.01066 Acc 0.75521 | Val acc 0.85827 | Model saved to /tmp/models/model-fgrnn, global_step 1001\n",
      "Epoch   2 Batch   180 (  570) Loss 0.00846 Acc 0.83333 | Val acc 0.90967 | Model saved to /tmp/models/model-fgrnn, global_step 1002\n",
      "Epoch   2 Batch   180 (  570) Loss 0.00647 Acc 0.84896 | Val acc 0.92839 | Model saved to /tmp/models/model-fgrnn, global_step 1003\n",
      "INFO:tensorflow:Restoring parameters from /tmp/models/model-fgrnn-1003\n",
      "Round: 1\n",
      "Epoch   2 Batch   180 (  570) Loss 0.00473 Acc 0.88021 | Val acc 0.93509 | Model saved to /tmp/models/model-fgrnn, global_step 1004\n",
      "Epoch   2 Batch   180 (  570) Loss 0.00451 Acc 0.87500 | Val acc 0.92863 | Model saved to /tmp/models/model-fgrnn, global_step 1005\n",
      "Epoch   2 Batch   180 (  570) Loss 0.00424 Acc 0.87500 | Val acc 0.91604 | Model saved to /tmp/models/model-fgrnn, global_step 1006\n",
      "Epoch   2 Batch   180 (  570) Loss 0.00408 Acc 0.88021 | Val acc 0.90953 | Model saved to /tmp/models/model-fgrnn, global_step 1007\n",
      "INFO:tensorflow:Restoring parameters from /tmp/models/model-fgrnn-1004\n",
      "Round: 2\n",
      "Epoch   2 Batch   180 (  570) Loss 0.00451 Acc 0.87500 | Val acc 0.92863 | Model saved to /tmp/models/model-fgrnn, global_step 1008\n",
      "Epoch   2 Batch   180 (  570) Loss 0.00424 Acc 0.87500 | Val acc 0.91604 | Model saved to /tmp/models/model-fgrnn, global_step 1009\n",
      "Epoch   2 Batch   180 (  570) Loss 0.00408 Acc 0.88021 | Val acc 0.90953 | Model saved to /tmp/models/model-fgrnn, global_step 1010\n",
      "Epoch   2 Batch   180 (  570) Loss 0.00404 Acc 0.88542 | Val acc 0.91040 | Model saved to /tmp/models/model-fgrnn, global_step 1011\n",
      "INFO:tensorflow:Restoring parameters from /tmp/models/model-fgrnn-1008\n",
      "Round: 3\n",
      "Epoch   2 Batch   180 (  570) Loss 0.00424 Acc 0.87500 | Val acc 0.91604 | Model saved to /tmp/models/model-fgrnn, global_step 1012\n",
      "Epoch   2 Batch   180 (  570) Loss 0.00408 Acc 0.88021 | Val acc 0.90953 | Model saved to /tmp/models/model-fgrnn, global_step 1013\n",
      "Epoch   2 Batch   180 (  570) Loss 0.00404 Acc 0.88542 | Val acc 0.91040 | Model saved to /tmp/models/model-fgrnn, global_step 1014\n",
      "Epoch   2 Batch   180 (  570) Loss 0.00395 Acc 0.88542 | Val acc 0.91054 | Model saved to /tmp/models/model-fgrnn, global_step 1015\n",
      "INFO:tensorflow:Restoring parameters from /tmp/models/model-fgrnn-1012\n",
      "Round: 4\n",
      "Epoch   2 Batch   180 (  570) Loss 0.00408 Acc 0.88021 | Val acc 0.90953 | Model saved to /tmp/models/model-fgrnn, global_step 1016\n",
      "Epoch   2 Batch   180 (  570) Loss 0.00404 Acc 0.88542 | Val acc 0.91040 | Model saved to /tmp/models/model-fgrnn, global_step 1017\n",
      "Epoch   2 Batch   180 (  570) Loss 0.00395 Acc 0.88542 | Val acc 0.91054 | Model saved to /tmp/models/model-fgrnn, global_step 1018\n",
      "Epoch   2 Batch   180 (  570) Loss 0.00386 Acc 0.89062 | Val acc 0.90866 | Model saved to /tmp/models/model-fgrnn, global_step 1019\n",
      "INFO:tensorflow:Restoring parameters from /tmp/models/model-fgrnn-1018\n",
      "Round: 5\n",
      "Switching to EMI-Loss function\n",
      "Epoch   2 Batch   180 (  570) Loss 0.36574 Acc 0.88021 | Val acc 0.91435 | Model saved to /tmp/models/model-fgrnn, global_step 1020\n",
      "Epoch   2 Batch   180 (  570) Loss 0.34164 Acc 0.88542 | Val acc 0.91450 | Model saved to /tmp/models/model-fgrnn, global_step 1021\n",
      "Epoch   2 Batch   180 (  570) Loss 0.32879 Acc 0.86458 | Val acc 0.91450 | Model saved to /tmp/models/model-fgrnn, global_step 1022\n",
      "Epoch   2 Batch   180 (  570) Loss 0.31734 Acc 0.86458 | Val acc 0.92014 | Model saved to /tmp/models/model-fgrnn, global_step 1023\n",
      "INFO:tensorflow:Restoring parameters from /tmp/models/model-fgrnn-1023\n",
      "Round: 6\n",
      "Epoch   2 Batch   180 (  570) Loss 0.30830 Acc 0.86979 | Val acc 0.92139 | Model saved to /tmp/models/model-fgrnn, global_step 1024\n",
      "Epoch   2 Batch   180 (  570) Loss 0.30019 Acc 0.90104 | Val acc 0.92313 | Model saved to /tmp/models/model-fgrnn, global_step 1025\n",
      "Epoch   2 Batch   180 (  570) Loss 0.29357 Acc 0.93229 | Val acc 0.92472 | Model saved to /tmp/models/model-fgrnn, global_step 1026\n",
      "Epoch   2 Batch   180 (  570) Loss 0.29105 Acc 0.91667 | Val acc 0.93051 | Model saved to /tmp/models/model-fgrnn, global_step 1027\n",
      "INFO:tensorflow:Restoring parameters from /tmp/models/model-fgrnn-1027\n",
      "Round: 7\n",
      "Epoch   2 Batch   180 (  570) Loss 0.28659 Acc 0.90625 | Val acc 0.92935 | Model saved to /tmp/models/model-fgrnn, global_step 1028\n",
      "Epoch   2 Batch   180 (  570) Loss 0.28355 Acc 0.93229 | Val acc 0.93128 | Model saved to /tmp/models/model-fgrnn, global_step 1029\n",
      "Epoch   2 Batch   180 (  570) Loss 0.28047 Acc 0.93750 | Val acc 0.93142 | Model saved to /tmp/models/model-fgrnn, global_step 1030\n",
      "Epoch   2 Batch   180 (  570) Loss 0.27731 Acc 0.92188 | Val acc 0.92911 | Model saved to /tmp/models/model-fgrnn, global_step 1031\n",
      "INFO:tensorflow:Restoring parameters from /tmp/models/model-fgrnn-1030\n",
      "Round: 8\n",
      "Epoch   2 Batch   180 (  570) Loss 0.27731 Acc 0.92188 | Val acc 0.92911 | Model saved to /tmp/models/model-fgrnn, global_step 1032\n",
      "Epoch   2 Batch   180 (  570) Loss 0.27455 Acc 0.92188 | Val acc 0.92940 | Model saved to /tmp/models/model-fgrnn, global_step 1033\n",
      "Epoch   2 Batch   180 (  570) Loss 0.27238 Acc 0.92708 | Val acc 0.93031 | Model saved to /tmp/models/model-fgrnn, global_step 1034\n",
      "Epoch   2 Batch   180 (  570) Loss 0.27154 Acc 0.92708 | Val acc 0.93104 | Model saved to /tmp/models/model-fgrnn, global_step 1035\n",
      "INFO:tensorflow:Restoring parameters from /tmp/models/model-fgrnn-1035\n",
      "Round: 9\n",
      "Epoch   2 Batch   180 (  570) Loss 0.27090 Acc 0.92188 | Val acc 0.92983 | Model saved to /tmp/models/model-fgrnn, global_step 1036\n",
      "Epoch   2 Batch   180 (  570) Loss 0.27125 Acc 0.92188 | Val acc 0.92588 | Model saved to /tmp/models/model-fgrnn, global_step 1037\n",
      "Epoch   2 Batch   180 (  570) Loss 0.27048 Acc 0.90625 | Val acc 0.93041 | Model saved to /tmp/models/model-fgrnn, global_step 1038\n",
      "Epoch   2 Batch   180 (  570) Loss 0.27057 Acc 0.90625 | Val acc 0.92699 | Model saved to /tmp/models/model-fgrnn, global_step 1039\n",
      "INFO:tensorflow:Restoring parameters from /tmp/models/model-fgrnn-1038\n"
     ]
    }
   ],
   "source": [
    "with g1.as_default():\n",
    "    emiDriver = EMI_Driver(inputPipeline, emiFastGRNN, emiTrainer)\n",
    "\n",
    "emiDriver.initializeSession(g1)\n",
    "y_updated, modelStats = emiDriver.run(numClasses=NUM_OUTPUT, x_train=x_train,\n",
    "                                      y_train=y_train, bag_train=BAG_TRAIN,\n",
    "                                      x_val=x_val, y_val=y_val, bag_val=BAG_VAL,\n",
    "                                      numIter=NUM_ITER, keep_prob=KEEP_PROB,\n",
    "                                      numRounds=NUM_ROUNDS, batchSize=BATCH_SIZE,\n",
    "                                      numEpochs=NUM_EPOCHS, modelPrefix=MODEL_PREFIX,\n",
    "                                      fracEMI=0.5, updatePolicy='top-k', k=1)"
   ]
  },
  {
   "cell_type": "markdown",
   "metadata": {},
   "source": [
    "# Evaluating the  trained model\n",
    "\n",
    "![MIML Formulation illustration](img/MIML_illustration.png)\n",
    "\n",
    "## Accuracy\n",
    "\n",
    "Since the trained model predicts on a smaller 48-step input while our test data has labels for 128 step inputs (i.e. bag level labels), evaluating the accuracy of the trained model is not straight forward. We perform the evaluation as follows:\n",
    "\n",
    "1. Divide the test data also into sub-instances; similar to what was done for the train data.\n",
    "2. Obtain sub-instance level predictions for each bag in the test data.\n",
    "3. Obtain bag level predictions from sub-instance level predictions. For this, we use our estimate of the length of the signature to estimate the expected number of sub-instances that would be non negative - $k$ illustrated in the figure. If a bag has $k$ consecutive sub-instances with the same label, that becomes the label of the bag. All other bags are labeled negative.\n",
    "4. Compare the predicted bag level labels with the known bag level labels in test data.\n",
    "\n",
    "## Early Savings\n",
    "\n",
    "Early prediction is accomplished by defining an early prediction policy method. This method receives the prediction at each step of the learned FastGRNN for a sub-instance as input and is expected to return a predicted class and the 0-indexed step at which it made this prediction. This is illustrated below in code. "
   ]
  },
  {
   "cell_type": "code",
   "execution_count": 8,
   "metadata": {
    "ExecuteTime": {
     "end_time": "2018-08-19T12:51:45.832728Z",
     "start_time": "2018-08-19T12:51:45.805984Z"
    }
   },
   "outputs": [],
   "source": [
    "# Early Prediction Policy: We make an early prediction based on the predicted classes\n",
    "#     probability. If the predicted class probability > minProb at some step, we make\n",
    "#     a prediction at that step.\n",
    "def earlyPolicy_minProb(instanceOut, minProb, **kwargs):\n",
    "    assert instanceOut.ndim == 2\n",
    "    classes = np.argmax(instanceOut, axis=1)\n",
    "    prob = np.max(instanceOut, axis=1)\n",
    "    index = np.where(prob >= minProb)[0]\n",
    "    if len(index) == 0:\n",
    "        assert (len(instanceOut) - 1) == (len(classes) - 1)\n",
    "        return classes[-1], len(instanceOut) - 1\n",
    "    index = index[0]\n",
    "    return classes[index], index\n",
    "\n",
    "def getEarlySaving(predictionStep, numTimeSteps, returnTotal=False):\n",
    "    predictionStep = predictionStep + 1\n",
    "    predictionStep = np.reshape(predictionStep, -1)\n",
    "    totalSteps = np.sum(predictionStep)\n",
    "    maxSteps = len(predictionStep) * numTimeSteps\n",
    "    savings = 1.0 - (totalSteps / maxSteps)\n",
    "    if returnTotal:\n",
    "        return savings, totalSteps\n",
    "    return savings"
   ]
  },
  {
   "cell_type": "code",
   "execution_count": 9,
   "metadata": {
    "ExecuteTime": {
     "end_time": "2018-08-19T12:51:46.210240Z",
     "start_time": "2018-08-19T12:51:45.834534Z"
    }
   },
   "outputs": [
    {
     "name": "stdout",
     "output_type": "stream",
     "text": [
      "Accuracy at k = 2: 0.906006\n",
      "Additional savings: 0.469392\n"
     ]
    }
   ],
   "source": [
    "k = 2\n",
    "predictions, predictionStep = emiDriver.getInstancePredictions(x_test, y_test, earlyPolicy_minProb, minProb=0.99)\n",
    "bagPredictions = emiDriver.getBagPredictions(predictions, minSubsequenceLen=k, numClass=NUM_OUTPUT)\n",
    "print('Accuracy at k = %d: %f' % (k,  np.mean((bagPredictions == BAG_TEST).astype(int))))\n",
    "print('Additional savings: %f' % getEarlySaving(predictionStep, NUM_TIMESTEPS))"
   ]
  },
  {
   "cell_type": "code",
   "execution_count": 10,
   "metadata": {
    "ExecuteTime": {
     "end_time": "2018-08-19T12:51:46.677691Z",
     "start_time": "2018-08-19T12:51:46.212285Z"
    },
    "scrolled": false
   },
   "outputs": [
    {
     "name": "stdout",
     "output_type": "stream",
     "text": [
      "   len       acc  macro-fsc  macro-pre  macro-rec  micro-fsc  micro-pre  \\\n",
      "0    1  0.895826   0.896618   0.900289   0.897293   0.895826   0.895826   \n",
      "1    2  0.906006   0.906610   0.907386   0.907142   0.906006   0.906006   \n",
      "2    3  0.902273   0.902429   0.903392   0.902839   0.902273   0.902273   \n",
      "3    4  0.878181   0.878575   0.887658   0.876874   0.878181   0.878181   \n",
      "4    5  0.857822   0.859167   0.879626   0.855010   0.857822   0.857822   \n",
      "5    6  0.841534   0.843752   0.875205   0.837287   0.841534   0.841534   \n",
      "\n",
      "   micro-rec  \n",
      "0   0.895826  \n",
      "1   0.906006  \n",
      "2   0.902273  \n",
      "3   0.878181  \n",
      "4   0.857822  \n",
      "5   0.841534  \n",
      "Max accuracy 0.906006 at subsequencelength 2\n",
      "Max micro-f 0.906006 at subsequencelength 2\n",
      "Micro-precision 0.906006 at subsequencelength 2\n",
      "Micro-recall 0.906006 at subsequencelength 2\n",
      "Max macro-f 0.906610 at subsequencelength 2\n",
      "macro-precision 0.907386 at subsequencelength 2\n",
      "macro-recall 0.907142 at subsequencelength 2\n"
     ]
    }
   ],
   "source": [
    "# A slightly more detailed analysis method is provided. \n",
    "df = emiDriver.analyseModel(predictions, BAG_TEST, NUM_SUBINSTANCE, NUM_OUTPUT)"
   ]
  },
  {
   "cell_type": "markdown",
   "metadata": {},
   "source": [
    "## Picking the best model\n",
    "\n",
    "The `EMI_Driver.run()` method, upon finishing, returns a list containing information about the best models after each EMI-RNN round. This can be used to identify the best model (based on validation accuracy) at the end of each round - illustrated below."
   ]
  },
  {
   "cell_type": "code",
   "execution_count": 12,
   "metadata": {
    "ExecuteTime": {
     "end_time": "2018-08-19T13:06:04.024660Z",
     "start_time": "2018-08-19T13:04:47.045787Z"
    }
   },
   "outputs": [
    {
     "name": "stdout",
     "output_type": "stream",
     "text": [
      "INFO:tensorflow:Restoring parameters from /tmp/models/model-fgrnn-1003\n",
      "Round:  0, Validation accuracy: 0.9284, Test Accuracy (k = 2): 0.855786, Additional savings: 0.078602\n",
      "INFO:tensorflow:Restoring parameters from /tmp/models/model-fgrnn-1004\n",
      "Round:  1, Validation accuracy: 0.9351, Test Accuracy (k = 2): 0.868001, Additional savings: 0.116721\n",
      "INFO:tensorflow:Restoring parameters from /tmp/models/model-fgrnn-1008\n",
      "Round:  2, Validation accuracy: 0.9286, Test Accuracy (k = 2): 0.871395, Additional savings: 0.135863\n",
      "INFO:tensorflow:Restoring parameters from /tmp/models/model-fgrnn-1012\n",
      "Round:  3, Validation accuracy: 0.9160, Test Accuracy (k = 2): 0.876145, Additional savings: 0.154517\n",
      "INFO:tensorflow:Restoring parameters from /tmp/models/model-fgrnn-1018\n",
      "Round:  4, Validation accuracy: 0.9105, Test Accuracy (k = 2): 0.884628, Additional savings: 0.204854\n",
      "INFO:tensorflow:Restoring parameters from /tmp/models/model-fgrnn-1023\n",
      "Round:  5, Validation accuracy: 0.9201, Test Accuracy (k = 2): 0.881914, Additional savings: 0.423545\n",
      "INFO:tensorflow:Restoring parameters from /tmp/models/model-fgrnn-1027\n",
      "Round:  6, Validation accuracy: 0.9305, Test Accuracy (k = 2): 0.892772, Additional savings: 0.446242\n",
      "INFO:tensorflow:Restoring parameters from /tmp/models/model-fgrnn-1030\n",
      "Round:  7, Validation accuracy: 0.9314, Test Accuracy (k = 2): 0.899220, Additional savings: 0.456571\n",
      "INFO:tensorflow:Restoring parameters from /tmp/models/model-fgrnn-1035\n",
      "Round:  8, Validation accuracy: 0.9310, Test Accuracy (k = 2): 0.905667, Additional savings: 0.464404\n",
      "INFO:tensorflow:Restoring parameters from /tmp/models/model-fgrnn-1038\n",
      "Round:  9, Validation accuracy: 0.9304, Test Accuracy (k = 2): 0.906006, Additional savings: 0.469392\n"
     ]
    }
   ],
   "source": [
    "devnull = open(os.devnull, 'r')\n",
    "for val in modelStats:\n",
    "    round_, acc, modelPrefix, globalStep = val\n",
    "    emiDriver.loadSavedGraphToNewSession(modelPrefix, globalStep, redirFile=devnull)\n",
    "    predictions, predictionStep = emiDriver.getInstancePredictions(x_test, y_test, earlyPolicy_minProb,\n",
    "                                                               minProb=0.99, keep_prob=1.0)\n",
    " \n",
    "    bagPredictions = emiDriver.getBagPredictions(predictions, minSubsequenceLen=k, numClass=NUM_OUTPUT)\n",
    "    print(\"Round: %2d, Validation accuracy: %.4f\" % (round_, acc), end='')\n",
    "    print(', Test Accuracy (k = %d): %f, ' % (k,  np.mean((bagPredictions == BAG_TEST).astype(int))), end='')\n",
    "    print('Additional savings: %f' % getEarlySaving(predictionStep, NUM_TIMESTEPS)) "
   ]
  }
 ],
 "metadata": {
  "kernelspec": {
   "display_name": "Python 3",
   "language": "python",
   "name": "python3"
  },
  "language_info": {
   "codemirror_mode": {
    "name": "ipython",
    "version": 3
   },
   "file_extension": ".py",
   "mimetype": "text/x-python",
   "name": "python",
   "nbconvert_exporter": "python",
   "pygments_lexer": "ipython3",
   "version": "3.5.5"
  }
 },
 "nbformat": 4,
 "nbformat_minor": 2
}
